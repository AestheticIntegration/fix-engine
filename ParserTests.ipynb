{
 "cells": [
  {
   "cell_type": "markdown",
   "metadata": {},
   "source": [
    "To build/rebuild run: \n",
    "```\n",
    "jbuilder build src-core/core.cma\n",
    "jbuilder build src-core-pp/core_pp.cma\n",
    "```"
   ]
  },
  {
   "cell_type": "code",
   "execution_count": 3,
   "metadata": {
    "collapsed": false
   },
   "outputs": [
    {
     "name": "stdout",
     "output_type": "stream",
     "text": [
      "- : unit = ()\n",
      "Findlib has been successfully loaded. Additional directives:\n",
      "  #require \"package\";;      to load a package\n",
      "  #list;;                   to list the available packages\n",
      "  #camlp4o;;                to load camlp4 (standard syntax)\n",
      "  #camlp4r;;                to load camlp4 (revised syntax)\n",
      "  #predicates \"p,q,...\";;   to set these predicates\n",
      "  Topfind.reset();;         to force that packages will be reloaded\n",
      "  #thread;;                 to enable threads\n",
      "\n",
      "- : unit = ()\n",
      "/home/kanishev/.opam/4.04.1/lib/ocaml/str.cma: loaded\n",
      "/home/kanishev/.opam/4.04.1/lib/easy-format: added to search path\n",
      "/home/kanishev/.opam/4.04.1/lib/easy-format/easy_format.cmo: loaded\n",
      "/home/kanishev/.opam/4.04.1/lib/biniou: added to search path\n",
      "/home/kanishev/.opam/4.04.1/lib/biniou/biniou.cma: loaded\n",
      "/home/kanishev/.opam/4.04.1/lib/yojson: added to search path\n",
      "/home/kanishev/.opam/4.04.1/lib/yojson/yojson.cmo: loaded\n"
     ]
    }
   ],
   "source": [
    "#use \"topfind\";;\n",
    "#require \"str\";;\n",
    "#require \"yojson\";;"
   ]
  },
  {
   "cell_type": "code",
   "execution_count": 4,
   "metadata": {
    "collapsed": false
   },
   "outputs": [],
   "source": [
    "#directory \"_build/default/src-core/\";;\n",
    "#directory \"_build/default/src-core-pp/\";;\n",
    "#load \"_build/default/src-core/core.cma\";;\n",
    "#load \"_build/default/src-core-pp/core_pp.cma\";;"
   ]
  },
  {
   "cell_type": "code",
   "execution_count": 5,
   "metadata": {
    "collapsed": false
   },
   "outputs": [
    {
     "name": "stdout",
     "output_type": "stream",
     "text": [
      "val message_of_string : string -> (string * string) list = <fun>\n"
     ]
    }
   ],
   "source": [
    "let message_of_string str = str\n",
    "    |> Stream.of_string \n",
    "    |> Parser_utils.split_into_key_value '|'\n",
    "    |> Parser_utils.split_into_messages\n",
    "    |> Stream.peek\n",
    "    |> function Some m -> m | _ -> failwith \"WAT\""
   ]
  },
  {
   "cell_type": "code",
   "execution_count": 6,
   "metadata": {
    "collapsed": false
   },
   "outputs": [
    {
     "name": "stdout",
     "output_type": "stream",
     "text": [
      "File \"\", line 6, characters 36-38:\n",
      "Warning 14: illegal backslash escape in string.\n",
      "val message : (string * string) list =\n",
      "  [(\"8\", \"FIX.4.2\"); (\"9\", \"182\"); (\"35\", \"D\"); (\"34\", \"200\");\n",
      "   (\"49\", \"00000543\"); (\"56\", \"EURONEXT\"); (\"115\", \"00000543\");\n",
      "   (\"142\", \"TESTTOOL\"); (\"52\", \"20170824-13:45:58\"); (\"43\", \"N\");\n",
      "   (\"97\", \"N\"); (\"11\", \"O1\"); (\"55\", \"BE0947727377\"); (\"54\", \"1\");\n",
      "   (\"40\", \"2\"); (\"59\", \"0\"); (\"44\", \"8.5\"); (\"38\", \"100\");\n",
      "   (\"60\", \"20170824-13:46:15\"); (\"47\", \"1\"); (\"57\", \"EURONEXT\");\n",
      "   (\"10\", \"221\")]\n"
     ]
    }
   ],
   "source": [
    "let message = \n",
    "    \"8=FIX.4.2^A9=182^A35=D^A34=200^A49=00000543^A56=EURONEXT^A115=00000543^A\" ^\n",
    "    \"142=TESTTOOL^A52=20170824-13:45:58^A43=N^A97=N^A11=O1^A55=BE0947727377^A\" ^\n",
    "    \"54=1^A40=2^A59=0^A44=8.5^A38=100^A60=20170824-13:46:15^A\" ^\n",
    "    \"47=1^A57=EURONEXT^A10=221^A\" \n",
    "    |> Str.(global_replace (regexp \"\\^A\") \"|\" )\n",
    "    |> message_of_string"
   ]
  },
  {
   "cell_type": "code",
   "execution_count": 7,
   "metadata": {
    "collapsed": false
   },
   "outputs": [
    {
     "name": "stdout",
     "output_type": "stream",
     "text": [
      "- : int * string = (221, \"221\")\n",
      "val body_length : int = 182\n"
     ]
    }
   ],
   "source": [
    "let checksum s = \n",
    "    let rec chsum i v =\n",
    "        if i < 0 then v else chsum (i - 1) (Char.code s.[i] + v)  in\n",
    "    chsum (String.length s - 1) 0 \n",
    "    in\n",
    "    let rec scan n msg = match msg with\n",
    "        | (\"10\", v )::tl -> ( n mod 256 , v )\n",
    "        | (  k , v )::tl -> scan (checksum k + checksum v + 62 + n) tl\n",
    "        | [] -> ( n mod 256 , \"\") in \n",
    "    scan 0 message\n",
    ";;\n",
    "let body_length =\n",
    "    let rec scan n msg = match msg with\n",
    "        | ( \"8\", _ )::tl\n",
    "        | ( \"9\", _ )::tl -> scan n tl\n",
    "        | (\"10\", _ )::tl -> n\n",
    "        | (  k , v )::tl -> n + scan String.(length k + length v + 2) tl\n",
    "        | [] -> n in\n",
    "    scan 0 message\n",
    ";;"
   ]
  },
  {
   "cell_type": "code",
   "execution_count": 9,
   "metadata": {
    "collapsed": false
   },
   "outputs": [],
   "source": [
    "#directory \"_build/default/src-protocol/\";;\n",
    "#directory \"_build/default/src-protocol-exts/\";;\n",
    "#directory \"_build/default/src-protocol-pp/\";;\n",
    "#directory \"_build/default/src-protocol-exts-pp/\";;\n",
    "\n",
    "#load \"_build/default/src-protocol-exts/protocol_exts.cma\";;\n",
    "#load \"_build/default/src-protocol/protocol.cma\";;\n",
    "#load \"_build/default/src-protocol-exts-pp/protocol_exts_pp.cma\";;\n",
    "#load \"_build/default/src-protocol-pp/protocol_pp.cma\";;"
   ]
  },
  {
   "cell_type": "code",
   "execution_count": 16,
   "metadata": {
    "collapsed": false
   },
   "outputs": [
    {
     "name": "stdout",
     "output_type": "stream",
     "text": [
      "{\n",
      "  \"SessionRejectedMsg\": {\n",
      "    \"RefSeqNum\": 200,\n",
      "    \"RefTagID\": \"HandlInst\",\n",
      "    \"RefMsgType\": \"OrderSingle\",\n",
      "    \"SessionRejectReason\": \"RequiredTagMissing\"\n",
      "  }\n",
      "}\n",
      "- : unit = ()\n"
     ]
    }
   ],
   "source": [
    "message \n",
    "|> Parse_full_messages.parse_top_level_msg \n",
    "|> Full_messages_json.full_top_level_msg_to_json\n",
    "|> Yojson.pretty_to_string\n",
    "|> print_endline"
   ]
  },
  {
   "cell_type": "code",
   "execution_count": null,
   "metadata": {
    "collapsed": true
   },
   "outputs": [],
   "source": []
  }
 ],
 "metadata": {
  "kernelspec": {
   "display_name": "JUcaml",
   "language": "OCaml",
   "name": "jucaml"
  },
  "language_info": {
   "codemirror_mode": "",
   "file_extension": ".ml",
   "mimetype": "",
   "name": "OCaml",
   "nbconvert_exporter": "",
   "pygments_lexer": "OCaml",
   "version": "4.02"
  }
 },
 "nbformat": 4,
 "nbformat_minor": 0
}
