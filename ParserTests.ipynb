{
 "cells": [
  {
   "cell_type": "markdown",
   "metadata": {},
   "source": [
    "To build/rebuild run: \n",
    "```\n",
    "jbuilder build src-core/core.cma\n",
    "jbuilder build src-core-pp/core_pp.cma\n",
    "```"
   ]
  },
  {
   "cell_type": "code",
   "execution_count": 1,
   "metadata": {
    "collapsed": false
   },
   "outputs": [],
   "source": [
    "#directory \"_build/default/src-core/\";;\n",
    "#directory \"_build/default/src-core-pp/\";;\n",
    "#load \"_build/default/src-core/core.cma\";;\n",
    "#load \"_build/default/src-core-pp/core_pp.cma\";;"
   ]
  },
  {
   "cell_type": "code",
   "execution_count": 2,
   "metadata": {
    "collapsed": false
   },
   "outputs": [
    {
     "name": "stdout",
     "output_type": "stream",
     "text": [
      "val message_of_string : string -> (string * string) list = <fun>\n"
     ]
    }
   ],
   "source": [
    "let message_of_string str = str\n",
    "    |> Stream.of_string \n",
    "    |> Parser_utils.split_into_key_value '|'\n",
    "    |> Parser_utils.split_into_messages\n",
    "    |> Stream.peek\n",
    "    |> function Some m -> m | _ -> failwith \"WAT\""
   ]
  },
  {
   "cell_type": "code",
   "execution_count": 3,
   "metadata": {
    "collapsed": false
   },
   "outputs": [
    {
     "name": "stdout",
     "output_type": "stream",
     "text": [
      "val message : (string * string) list =\n",
      "  [(\"42\", \"42\"); (\"43\", \"43\"); (\"45\", \"45\"); (\"1\", \"3\"); (\"2\", \"9\");\n",
      "   (\"3\", \"9\"); (\"2\", \"8\"); (\"3\", \"8\"); (\"2\", \"7\"); (\"3\", \"7\"); (\"12\", \"12\");\n",
      "   (\"13\", \"13\")]\n"
     ]
    }
   ],
   "source": [
    "let message = message_of_string \"42=42|43=43|45=45|1=3|2=9|3=9|2=8|3=8|2=7|3=7|12=12|13=13|\""
   ]
  },
  {
   "cell_type": "markdown",
   "metadata": {},
   "source": [
    "### Checking my custom list utils for the parser"
   ]
  },
  {
   "cell_type": "markdown",
   "metadata": {},
   "source": [
    "`Parser_utils.take` extracts a value given a tag, leavig rest of the list unmodified."
   ]
  },
  {
   "cell_type": "code",
   "execution_count": 4,
   "metadata": {
    "collapsed": false
   },
   "outputs": [
    {
     "name": "stdout",
     "output_type": "stream",
     "text": [
      "- : string option * (string * string) list =\n",
      "(Some \"3\",\n",
      " [(\"42\", \"42\"); (\"43\", \"43\"); (\"45\", \"45\"); (\"2\", \"9\"); (\"3\", \"9\");\n",
      "  (\"2\", \"8\"); (\"3\", \"8\"); (\"2\", \"7\"); (\"3\", \"7\"); (\"12\", \"12\"); (\"13\", \"13\")])\n"
     ]
    }
   ],
   "source": [
    "Parser_utils.take \"1\" message;;"
   ]
  },
  {
   "cell_type": "markdown",
   "metadata": {},
   "source": [
    "`Parser_utils.split_on_tag` splits message at a given tag"
   ]
  },
  {
   "cell_type": "code",
   "execution_count": 5,
   "metadata": {
    "collapsed": false
   },
   "outputs": [
    {
     "name": "stdout",
     "output_type": "stream",
     "text": [
      "val leading : (string * string) list =\n",
      "  [(\"42\", \"42\"); (\"43\", \"43\"); (\"45\", \"45\")]\n",
      "val groups : (string * string) list =\n",
      "  [(\"1\", \"3\"); (\"2\", \"9\"); (\"3\", \"9\"); (\"2\", \"8\"); (\"3\", \"8\"); (\"2\", \"7\");\n",
      "   (\"3\", \"7\"); (\"12\", \"12\"); (\"13\", \"13\")]\n"
     ]
    }
   ],
   "source": [
    "let leading, groups = Parser_utils.split_on_tag \"1\" message;;"
   ]
  },
  {
   "cell_type": "code",
   "execution_count": 6,
   "metadata": {
    "collapsed": false
   },
   "outputs": [
    {
     "name": "stdout",
     "output_type": "stream",
     "text": [
      "- : (string * string) list list =\n",
      "[[(\"2\", \"9\"); (\"3\", \"9\")]; [(\"2\", \"8\"); (\"3\", \"8\")];\n",
      " [(\"2\", \"7\"); (\"3\", \"7\"); (\"12\", \"12\"); (\"13\", \"13\")]]\n"
     ]
    }
   ],
   "source": [
    "List.tl groups |> Parser_utils.cut_on_separator"
   ]
  },
  {
   "cell_type": "markdown",
   "metadata": {},
   "source": [
    "### Making a mock parser"
   ]
  },
  {
   "cell_type": "code",
   "execution_count": 7,
   "metadata": {
    "collapsed": false
   },
   "outputs": [
    {
     "name": "stdout",
     "output_type": "stream",
     "text": [
      "type test_block = { tb_2 : int; tb_3 : int option; }\n"
     ]
    }
   ],
   "source": [
    "type test_block = {\n",
    "    tb_2 : int;\n",
    "    tb_3 : int option\n",
    "};; "
   ]
  },
  {
   "cell_type": "code",
   "execution_count": 8,
   "metadata": {
    "collapsed": false
   },
   "outputs": [
    {
     "name": "stdout",
     "output_type": "stream",
     "text": [
      "val parse_block :\n",
      "  (string * string) list ->\n",
      "  test_block Parser_utils.Parser.t * (string * string) list = <fun>\n"
     ]
    }
   ],
   "source": [
    "let parse_block msg =\n",
    "    let open Parse_base_types in\n",
    "    let open Parser_utils.Parser in\n",
    "    req msg \"2\" parse_int @@ fun msg tb_2 ->\n",
    "    opt msg \"3\" parse_int @@ fun msg tb_3 ->\n",
    "    ParseSuccess { tb_2; tb_3 } , msg"
   ]
  },
  {
   "cell_type": "code",
   "execution_count": 9,
   "metadata": {
    "collapsed": false
   },
   "outputs": [
    {
     "name": "stdout",
     "output_type": "stream",
     "text": [
      "- : test_block Parser_utils.Parser.t * (string * string) list =\n",
      "(Parser_utils.Parser.ParseSuccess {tb_2 = 3; tb_3 = Some 2}, [(\"4\", \"3\")])\n"
     ]
    }
   ],
   "source": [
    "parse_block [(\"2\", \"3\"); (\"3\", \"2\"); (\"4\", \"3\")];;"
   ]
  },
  {
   "cell_type": "code",
   "execution_count": 13,
   "metadata": {
    "collapsed": false
   },
   "outputs": [
    {
     "name": "stdout",
     "output_type": "stream",
     "text": [
      "type test_message = { tm_43 : int; tm_repeating : test_block list; }\n"
     ]
    }
   ],
   "source": [
    "type test_message = {\n",
    "    tm_43 : int;\n",
    "    tm_repeating : test_block list\n",
    "}"
   ]
  },
  {
   "cell_type": "code",
   "execution_count": 15,
   "metadata": {
    "collapsed": false
   },
   "outputs": [
    {
     "name": "stdout",
     "output_type": "stream",
     "text": [
      "val parse_test :\n",
      "  (string * string) list ->\n",
      "  test_message Parser_utils.Parser.t * Parser_utils.Parser.msg = <fun>\n"
     ]
    }
   ],
   "source": [
    "let parse_test msg = \n",
    "    let open Parse_base_types in\n",
    "    let open Parser_utils.Parser in \n",
    "    req msg \"43\" parse_int @@ fun msg tm_43 -> \n",
    "    repeating msg \"1\" parse_block @@ fun msg tm_repeating ->\n",
    "    ParseSuccess { tm_43; tm_repeating }, msg"
   ]
  },
  {
   "cell_type": "markdown",
   "metadata": {},
   "source": [
    "### Testing the parser and error reporing"
   ]
  },
  {
   "cell_type": "code",
   "execution_count": 16,
   "metadata": {
    "collapsed": false
   },
   "outputs": [
    {
     "name": "stdout",
     "output_type": "stream",
     "text": [
      "- : test_message Parser_utils.Parser.t * Parser_utils.Parser.msg =\n",
      "(Parser_utils.Parser.ParseSuccess\n",
      "  {tm_43 = 43;\n",
      "   tm_repeating =\n",
      "    [{tb_2 = 9; tb_3 = Some 9}; {tb_2 = 8; tb_3 = Some 8};\n",
      "     {tb_2 = 7; tb_3 = Some 7}]},\n",
      " [(\"42\", \"42\"); (\"45\", \"45\"); (\"12\", \"12\"); (\"13\", \"13\")])\n"
     ]
    }
   ],
   "source": [
    "\"42=42|43=43|45=45|1=3|2=9|3=9|2=8|3=8|2=7|3=7|12=12|13=13|\" \n",
    "|> message_of_string |> parse_test "
   ]
  },
  {
   "cell_type": "code",
   "execution_count": 17,
   "metadata": {
    "collapsed": false
   },
   "outputs": [
    {
     "name": "stdout",
     "output_type": "stream",
     "text": [
      "- : test_message Parser_utils.Parser.t * Parser_utils.Parser.msg =\n",
      "(Parser_utils.Parser.ParseSuccess\n",
      "  {tm_43 = 43;\n",
      "   tm_repeating =\n",
      "    [{tb_2 = 9; tb_3 = Some 9}; {tb_2 = 8; tb_3 = None};\n",
      "     {tb_2 = 7; tb_3 = Some 7}]},\n",
      " [(\"42\", \"42\"); (\"45\", \"45\"); (\"12\", \"12\"); (\"13\", \"13\")])\n"
     ]
    }
   ],
   "source": [
    "\"42=42|43=43|45=45|1=3|2=9|3=9|2=8|2=7|3=7|12=12|13=13|\" \n",
    "|> message_of_string |> parse_test "
   ]
  },
  {
   "cell_type": "code",
   "execution_count": 18,
   "metadata": {
    "collapsed": false
   },
   "outputs": [
    {
     "name": "stdout",
     "output_type": "stream",
     "text": [
      "- : test_message Parser_utils.Parser.t * Parser_utils.Parser.msg =\n",
      "(Parser_utils.Parser.RepeatingGroupOutOfOrder \"1\", [])\n"
     ]
    }
   ],
   "source": [
    "\"42=42|43=43|45=45|1=3|2=9|3=9|2=8|5=2|3=8|2=7|3=7|12=12|13=13|\" \n",
    "|> message_of_string |> parse_test "
   ]
  },
  {
   "cell_type": "code",
   "execution_count": 19,
   "metadata": {
    "collapsed": false
   },
   "outputs": [
    {
     "name": "stdout",
     "output_type": "stream",
     "text": [
      "- : test_message Parser_utils.Parser.t * Parser_utils.Parser.msg =\n",
      "(Parser_utils.Parser.IncorrectNumInGroupCount \"1\", [])\n"
     ]
    }
   ],
   "source": [
    "\"42=42|43=43|45=45|1=3|2=8|3=8|2=7|3=7|12=12|13=13|\" \n",
    "|> message_of_string |> parse_test "
   ]
  },
  {
   "cell_type": "code",
   "execution_count": null,
   "metadata": {
    "collapsed": true
   },
   "outputs": [],
   "source": []
  }
 ],
 "metadata": {
  "kernelspec": {
   "display_name": "JUcaml",
   "language": "OCaml",
   "name": "jucaml"
  },
  "language_info": {
   "codemirror_mode": "",
   "file_extension": ".ml",
   "mimetype": "",
   "name": "OCaml",
   "nbconvert_exporter": "",
   "pygments_lexer": "OCaml",
   "version": "4.02"
  }
 },
 "nbformat": 4,
 "nbformat_minor": 0
}
