{
 "cells": [
  {
   "cell_type": "markdown",
   "metadata": {},
   "source": [
    "To build/rebuild run: \n",
    "```\n",
    "jbuilder build src-core/core.cma\n",
    "jbuilder build src-core-pp/core_pp.cma\n",
    "```"
   ]
  },
  {
   "cell_type": "code",
   "execution_count": 1,
   "metadata": {
    "collapsed": false
   },
   "outputs": [],
   "source": [
    "#directory \"_build/default/src-core/\";;\n",
    "#directory \"_build/default/src-core-pp/\";;\n",
    "#load \"_build/default/src-core/core.cma\";;\n",
    "#load \"_build/default/src-core-pp/core_pp.cma\";;"
   ]
  },
  {
   "cell_type": "code",
   "execution_count": 2,
   "metadata": {
    "collapsed": false
   },
   "outputs": [
    {
     "name": "stdout",
     "output_type": "stream",
     "text": [
      "val message_of_string : string -> (string * string) list = <fun>\n"
     ]
    }
   ],
   "source": [
    "let message_of_string str = str\n",
    "    |> Stream.of_string \n",
    "    |> Parser_utils.split_into_key_value '|'\n",
    "    |> Parser_utils.split_into_messages\n",
    "    |> Stream.peek\n",
    "    |> function Some m -> m | _ -> failwith \"WAT\""
   ]
  },
  {
   "cell_type": "code",
   "execution_count": 3,
   "metadata": {
    "collapsed": false
   },
   "outputs": [
    {
     "name": "stdout",
     "output_type": "stream",
     "text": [
      "val message : (string * string) list =\n",
      "  [(\"42\", \"42\"); (\"43\", \"43\"); (\"45\", \"45\"); (\"1\", \"3\"); (\"2\", \"9\");\n",
      "   (\"3\", \"9\"); (\"2\", \"8\"); (\"3\", \"8\"); (\"2\", \"7\"); (\"3\", \"7\"); (\"12\", \"12\");\n",
      "   (\"13\", \"13\")]\n"
     ]
    }
   ],
   "source": [
    "let message = message_of_string \"42=42|43=43|45=45|1=3|2=9|3=9|2=8|3=8|2=7|3=7|12=12|13=13|\""
   ]
  },
  {
   "cell_type": "markdown",
   "metadata": {},
   "source": [
    "# Checking my custom list utils for the parser"
   ]
  },
  {
   "cell_type": "markdown",
   "metadata": {},
   "source": [
    "`Parser_utils.take` extracts a value given a tag, leavig rest of the list unmodified."
   ]
  },
  {
   "cell_type": "code",
   "execution_count": 4,
   "metadata": {
    "collapsed": false
   },
   "outputs": [
    {
     "name": "stdout",
     "output_type": "stream",
     "text": [
      "- : string option * (string * string) list =\n",
      "(Some \"3\",\n",
      " [(\"42\", \"42\"); (\"43\", \"43\"); (\"45\", \"45\"); (\"2\", \"9\"); (\"3\", \"9\");\n",
      "  (\"2\", \"8\"); (\"3\", \"8\"); (\"2\", \"7\"); (\"3\", \"7\"); (\"12\", \"12\"); (\"13\", \"13\")])\n"
     ]
    }
   ],
   "source": [
    "Parser_utils.take \"1\" message;;"
   ]
  },
  {
   "cell_type": "markdown",
   "metadata": {},
   "source": [
    "`Parser_utils.split_on_tag` splits message at a given tag"
   ]
  },
  {
   "cell_type": "code",
   "execution_count": 5,
   "metadata": {
    "collapsed": false
   },
   "outputs": [
    {
     "name": "stdout",
     "output_type": "stream",
     "text": [
      "val leading : (string * string) list =\n",
      "  [(\"42\", \"42\"); (\"43\", \"43\"); (\"45\", \"45\")]\n",
      "val groups : (string * string) list =\n",
      "  [(\"1\", \"3\"); (\"2\", \"9\"); (\"3\", \"9\"); (\"2\", \"8\"); (\"3\", \"8\"); (\"2\", \"7\");\n",
      "   (\"3\", \"7\"); (\"12\", \"12\"); (\"13\", \"13\")]\n"
     ]
    }
   ],
   "source": [
    "let leading, groups = Parser_utils.split_on_tag \"1\" message;;"
   ]
  },
  {
   "cell_type": "code",
   "execution_count": 6,
   "metadata": {
    "collapsed": false
   },
   "outputs": [
    {
     "name": "stdout",
     "output_type": "stream",
     "text": [
      "- : (string * string) list list =\n",
      "[[(\"2\", \"9\"); (\"3\", \"9\")]; [(\"2\", \"8\"); (\"3\", \"8\")];\n",
      " [(\"2\", \"7\"); (\"3\", \"7\"); (\"12\", \"12\"); (\"13\", \"13\")]]\n"
     ]
    }
   ],
   "source": [
    "List.tl groups |> Parser_utils.cut_on_separator"
   ]
  },
  {
   "cell_type": "markdown",
   "metadata": {},
   "source": [
    "# Simple message with a single repeating group"
   ]
  },
  {
   "cell_type": "code",
   "execution_count": 7,
   "metadata": {
    "collapsed": true
   },
   "outputs": [],
   "source": [
    "open Parse_base_types \n",
    "open Parser_utils.Parser"
   ]
  },
  {
   "cell_type": "code",
   "execution_count": 8,
   "metadata": {
    "collapsed": false
   },
   "outputs": [
    {
     "name": "stdout",
     "output_type": "stream",
     "text": [
      "type test_block1 = { tb_2 : int; tb_3 : int option; }\n",
      "type test_message = {\n",
      "  tm_42 : int;\n",
      "  tm_repeating : test_block1 list;\n",
      "  tm_12 : int option;\n",
      "  tm_13 : int;\n",
      "}\n"
     ]
    }
   ],
   "source": [
    "(* Block and message types*)\n",
    "type test_block1 = {\n",
    "    tb_2 : int;\n",
    "    tb_3 : int option\n",
    "};; \n",
    "\n",
    "type test_message = {\n",
    "    tm_42 : int;\n",
    "    tm_repeating : test_block1 list;    \n",
    "    tm_12 : int option;\n",
    "    tm_13 : int \n",
    "}"
   ]
  },
  {
   "cell_type": "code",
   "execution_count": 9,
   "metadata": {
    "collapsed": false
   },
   "outputs": [
    {
     "name": "stdout",
     "output_type": "stream",
     "text": [
      "val parse_block1 :\n",
      "  (string * string) list ->\n",
      "  test_block1 Parser_utils.Parser.t * (string * string) list = <fun>\n",
      "val parse_message :\n",
      "  Parser_utils.Parser.msg ->\n",
      "  test_message Parser_utils.Parser.t * Parser_utils.Parser.msg = <fun>\n"
     ]
    }
   ],
   "source": [
    "(* Block and message parsers *)\n",
    "let parse_block1 msg =\n",
    "    req msg \"2\" parse_int @@ fun msg tb_2 ->\n",
    "    opt msg \"3\" parse_int @@ fun msg tb_3 ->\n",
    "    ParseSuccess { tb_2; tb_3 } , msg\n",
    "\n",
    "let parse_message msg =\n",
    "    repeating msg \"1\" parse_block1 @@ fun msg tm_repeating ->\n",
    "    req msg \"42\" parse_int @@ fun msg tm_42 -> \n",
    "    opt msg \"12\" parse_int @@ fun msg tm_12 -> \n",
    "    req msg \"13\" parse_int @@ fun msg tm_13 -> \n",
    "    ParseSuccess { tm_42; tm_12; tm_13; tm_repeating }, msg  \n",
    "    "
   ]
  },
  {
   "cell_type": "markdown",
   "metadata": {},
   "source": [
    "### Testing the parser and error reporing"
   ]
  },
  {
   "cell_type": "code",
   "execution_count": 10,
   "metadata": {
    "collapsed": false
   },
   "outputs": [
    {
     "name": "stdout",
     "output_type": "stream",
     "text": [
      "- : test_message Parser_utils.Parser.t * Parser_utils.Parser.msg =\n",
      "(ParseSuccess\n",
      "  {tm_42 = 42;\n",
      "   tm_repeating =\n",
      "    [{tb_2 = 9; tb_3 = Some 9}; {tb_2 = 8; tb_3 = Some 8};\n",
      "     {tb_2 = 7; tb_3 = Some 7}];\n",
      "   tm_12 = Some 12; tm_13 = 13},\n",
      " [])\n"
     ]
    }
   ],
   "source": [
    "(* Length 3 repeating group *)\n",
    "\"42=42|\" ^\n",
    "\"1=3|\" ^ \"2=9|3=9|\"\n",
    "       ^ \"2=8|3=8|\"\n",
    "       ^ \"2=7|3=7|\" ^\n",
    "\"12=12|13=13|\" \n",
    "|> message_of_string |> parse_message "
   ]
  },
  {
   "cell_type": "code",
   "execution_count": 11,
   "metadata": {
    "collapsed": false
   },
   "outputs": [
    {
     "name": "stdout",
     "output_type": "stream",
     "text": [
      "- : test_message Parser_utils.Parser.t * Parser_utils.Parser.msg =\n",
      "(ParseSuccess\n",
      "  {tm_42 = 42;\n",
      "   tm_repeating =\n",
      "    [{tb_2 = 9; tb_3 = Some 9}; {tb_2 = 8; tb_3 = None};\n",
      "     {tb_2 = 7; tb_3 = Some 7}];\n",
      "   tm_12 = Some 12; tm_13 = 13},\n",
      " [])\n"
     ]
    }
   ],
   "source": [
    "(* Empty optional field in one of the entries *)\n",
    "\"42=42|\" ^\n",
    "\"1=3|\" ^ \"2=9|3=9|\"\n",
    "       ^ \"2=8|\"\n",
    "       ^ \"2=7|3=7|\" ^\n",
    "\"12=12|13=13|\" \n",
    "|> message_of_string |> parse_message "
   ]
  },
  {
   "cell_type": "code",
   "execution_count": 12,
   "metadata": {
    "collapsed": false
   },
   "outputs": [
    {
     "name": "stdout",
     "output_type": "stream",
     "text": [
      "- : test_message Parser_utils.Parser.t * Parser_utils.Parser.msg =\n",
      "(ParseSuccess\n",
      "  {tm_42 = 42; tm_repeating = [{tb_2 = 9; tb_3 = None}]; tm_12 = Some 12;\n",
      "   tm_13 = 13},\n",
      " [])\n"
     ]
    }
   ],
   "source": [
    "(* Length 1 repeating group *)\n",
    "\"42=42|\" ^\n",
    "\"1=1|\" ^ \"2=9|\" ^\n",
    "\"12=12|13=13|\" \n",
    "|> message_of_string |> parse_message "
   ]
  },
  {
   "cell_type": "code",
   "execution_count": 13,
   "metadata": {
    "collapsed": false
   },
   "outputs": [
    {
     "name": "stdout",
     "output_type": "stream",
     "text": [
      "- : test_message Parser_utils.Parser.t * Parser_utils.Parser.msg =\n",
      "(ParseSuccess {tm_42 = 42; tm_repeating = []; tm_12 = Some 12; tm_13 = 13},\n",
      " [])\n"
     ]
    }
   ],
   "source": [
    "(* Empty repeating group *)\n",
    "\"42=42|\" ^\n",
    "\"12=12|13=13|\" \n",
    "|> message_of_string |> parse_message "
   ]
  },
  {
   "cell_type": "code",
   "execution_count": 14,
   "metadata": {
    "collapsed": false
   },
   "outputs": [
    {
     "name": "stdout",
     "output_type": "stream",
     "text": [
      "- : test_message Parser_utils.Parser.t * Parser_utils.Parser.msg =\n",
      "(IncorrectNumInGroupCount \"1\", [])\n"
     ]
    }
   ],
   "source": [
    "(* ??? Length=0 is probably and error ??? *)\n",
    "\"42=42|\" ^\n",
    "\"1=0|\" ^\n",
    "\"12=12|13=13|\" \n",
    "|> message_of_string |> parse_message "
   ]
  },
  {
   "cell_type": "code",
   "execution_count": 15,
   "metadata": {
    "collapsed": false
   },
   "outputs": [
    {
     "name": "stdout",
     "output_type": "stream",
     "text": [
      "- : test_message Parser_utils.Parser.t * Parser_utils.Parser.msg =\n",
      "(RepeatingGroupOutOfOrder \"1\", [])\n"
     ]
    }
   ],
   "source": [
    "(* Rogue tag inside a group *)\n",
    "\"42=42|\" ^\n",
    "\"1=3|\" ^ \"2=9|3=9|5=7|\"\n",
    "       ^ \"2=8|\"\n",
    "       ^ \"2=7|3=7|\" ^\n",
    "\"12=12|13=13|\" \n",
    "|> message_of_string |> parse_message "
   ]
  },
  {
   "cell_type": "code",
   "execution_count": 16,
   "metadata": {
    "collapsed": false
   },
   "outputs": [
    {
     "name": "stdout",
     "output_type": "stream",
     "text": [
      "- : test_message Parser_utils.Parser.t * Parser_utils.Parser.msg =\n",
      "(IncorrectNumInGroupCount \"1\", [])\n"
     ]
    }
   ],
   "source": [
    "(* Wrong length *)\n",
    "\"42=42|\" ^\n",
    "\"1=3|\" ^ \"2=9|3=9|\"\n",
    "       ^ \"2=7|3=7|\" ^\n",
    "\"12=12|13=13|\" \n",
    "|> message_of_string |> parse_message "
   ]
  },
  {
   "cell_type": "markdown",
   "metadata": {},
   "source": [
    "# Repeating group inside a repeting group"
   ]
  },
  {
   "cell_type": "code",
   "execution_count": 17,
   "metadata": {
    "collapsed": false
   },
   "outputs": [
    {
     "name": "stdout",
     "output_type": "stream",
     "text": [
      "type test_block1 = { tb_2 : int; tb_3 : int option; }\n",
      "type test_block4 = {\n",
      "  tb_5 : int;\n",
      "  tb_6 : test_block1 list;\n",
      "  tb_7 : int option;\n",
      "}\n",
      "type test_message = {\n",
      "  tm_42 : int;\n",
      "  tm_repeating : test_block4 list;\n",
      "  tm_12 : int option;\n",
      "  tm_13 : int;\n",
      "}\n"
     ]
    }
   ],
   "source": [
    "(* Block and message types*)\n",
    "type test_block1 = {\n",
    "    tb_2 : int;\n",
    "    tb_3 : int option\n",
    "};; \n",
    "\n",
    "type test_block4 = {\n",
    "    tb_5 : int;\n",
    "    tb_6 : test_block1 list;\n",
    "    tb_7 : int option    \n",
    "};; \n",
    "\n",
    "type test_message = {\n",
    "    tm_42 : int;\n",
    "    tm_repeating : test_block4 list;    \n",
    "    tm_12 : int option;\n",
    "    tm_13 : int \n",
    "}"
   ]
  },
  {
   "cell_type": "code",
   "execution_count": 18,
   "metadata": {
    "collapsed": false
   },
   "outputs": [
    {
     "name": "stdout",
     "output_type": "stream",
     "text": [
      "val parse_block1 :\n",
      "  (string * string) list ->\n",
      "  test_block1 Parser_utils.Parser.t * (string * string) list = <fun>\n",
      "val parse_block4 :\n",
      "  Parser_utils.Parser.msg ->\n",
      "  test_block4 Parser_utils.Parser.t * Parser_utils.Parser.msg = <fun>\n",
      "val parse_message :\n",
      "  Parser_utils.Parser.msg ->\n",
      "  test_message Parser_utils.Parser.t * Parser_utils.Parser.msg = <fun>\n"
     ]
    }
   ],
   "source": [
    "(* Block and message parsers *)\n",
    "let parse_block1 msg =\n",
    "    req msg \"2\" parse_int @@ fun msg tb_2 ->\n",
    "    opt msg \"3\" parse_int @@ fun msg tb_3 ->\n",
    "    ParseSuccess { tb_2; tb_3 } , msg\n",
    "\n",
    "let parse_block4 msg =\n",
    "    repeating msg \"1\" parse_block1 @@ fun msg tb_6 -> \n",
    "    req msg \"5\" parse_int @@ fun msg tb_5 ->\n",
    "    opt msg \"7\" parse_int @@ fun msg tb_7 ->\n",
    "    ParseSuccess {tb_5; tb_6; tb_7} , msg\n",
    "    \n",
    "let parse_message msg =\n",
    "    repeating msg \"4\" parse_block4 @@ fun msg tm_repeating ->\n",
    "    req msg \"42\" parse_int @@ fun msg tm_42 -> \n",
    "    opt msg \"12\" parse_int @@ fun msg tm_12 -> \n",
    "    req msg \"13\" parse_int @@ fun msg tm_13 -> \n",
    "    ParseSuccess { tm_42; tm_12; tm_13; tm_repeating }, msg  "
   ]
  },
  {
   "cell_type": "code",
   "execution_count": 19,
   "metadata": {
    "collapsed": false
   },
   "outputs": [
    {
     "name": "stdout",
     "output_type": "stream",
     "text": [
      "- : test_message Parser_utils.Parser.t * Parser_utils.Parser.msg =\n",
      "(ParseSuccess\n",
      "  {tm_42 = 42;\n",
      "   tm_repeating =\n",
      "    [{tb_5 = 1;\n",
      "      tb_6 = [{tb_2 = 99; tb_3 = None}; {tb_2 = 98; tb_3 = Some 97}];\n",
      "      tb_7 = Some 3};\n",
      "     {tb_5 = 2; tb_6 = []; tb_7 = None}];\n",
      "   tm_12 = None; tm_13 = 1},\n",
      " [])\n"
     ]
    }
   ],
   "source": [
    "\"42=42|\" ^ \n",
    "\"4=2|\" ^ \"5=1|7=3|\" ^\n",
    "         \"1=2|\" ^ \"2=99|\" ^\n",
    "                  \"2=98|3=97|\" ^\n",
    "         \"5=2|\" ^\n",
    "\"13=1|\"\n",
    "|> message_of_string |> parse_message "
   ]
  },
  {
   "cell_type": "code",
   "execution_count": 20,
   "metadata": {
    "collapsed": false
   },
   "outputs": [
    {
     "name": "stdout",
     "output_type": "stream",
     "text": [
      "- : test_message Parser_utils.Parser.t * Parser_utils.Parser.msg =\n",
      "(ParseSuccess\n",
      "  {tm_42 = 42;\n",
      "   tm_repeating =\n",
      "    [{tb_5 = 1; tb_6 = []; tb_7 = None}; {tb_5 = 2; tb_6 = []; tb_7 = None}];\n",
      "   tm_12 = None; tm_13 = 1},\n",
      " [])\n"
     ]
    }
   ],
   "source": [
    "\"42=42|4=2|\" ^\n",
    "    \"5=1|\" ^\n",
    "    \"5=2|\" ^\n",
    "\"13=1|\"\n",
    "|> message_of_string |> parse_message "
   ]
  },
  {
   "cell_type": "code",
   "execution_count": 21,
   "metadata": {
    "collapsed": false
   },
   "outputs": [
    {
     "name": "stdout",
     "output_type": "stream",
     "text": [
      "- : test_block4 list Parser_utils.Parser.t * Parser_utils.Parser.msg =\n",
      "(ParseSuccess\n",
      "  [{tb_5 = 1; tb_6 = []; tb_7 = Some 2};\n",
      "   {tb_5 = 2; tb_6 = []; tb_7 = Some 2}],\n",
      " [(\"42\", \"42\"); (\"13\", \"1\")])\n"
     ]
    }
   ],
   "source": [
    "\"42=42|4=2|\" ^\n",
    "    \"5=1|7=2|\" ^\n",
    "    \"5=2|7=2|\" ^\n",
    "\"13=1|\"\n",
    "|> message_of_string \n",
    "|> fun msg -> repeating msg \"4\" parse_block4 @@ fun msg v -> (ParseSuccess v, msg)"
   ]
  },
  {
   "cell_type": "code",
   "execution_count": 22,
   "metadata": {
    "collapsed": false
   },
   "outputs": [
    {
     "name": "stdout",
     "output_type": "stream",
     "text": [
      "- : test_message Parser_utils.Parser.t * Parser_utils.Parser.msg =\n",
      "(ParseSuccess {tm_42 = 42; tm_repeating = []; tm_12 = None; tm_13 = 1}, [])\n"
     ]
    }
   ],
   "source": [
    "\"42=42|13=1|\"\n",
    "|> message_of_string |> parse_message"
   ]
  },
  {
   "cell_type": "code",
   "execution_count": null,
   "metadata": {
    "collapsed": true
   },
   "outputs": [],
   "source": []
  }
 ],
 "metadata": {
  "kernelspec": {
   "display_name": "JUcaml",
   "language": "OCaml",
   "name": "jucaml"
  },
  "language_info": {
   "codemirror_mode": "",
   "file_extension": ".ml",
   "mimetype": "",
   "name": "OCaml",
   "nbconvert_exporter": "",
   "pygments_lexer": "OCaml",
   "version": "4.02"
  }
 },
 "nbformat": 4,
 "nbformat_minor": 0
}
